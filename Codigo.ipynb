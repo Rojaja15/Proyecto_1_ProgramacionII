{
 "cells": [
  {
   "cell_type": "markdown",
   "id": "e8a1ef1d",
   "metadata": {},
   "source": [
    "# Proyecto 1"
   ]
  },
  {
   "cell_type": "markdown",
   "id": "949e7910",
   "metadata": {},
   "source": [
    "Archivo lectura"
   ]
  },
  {
   "cell_type": "code",
   "execution_count": 1,
   "id": "79120041",
   "metadata": {},
   "outputs": [],
   "source": [
    "import pandas as pd # pandas: librria para manejar de datos (lectura de csv)\n",
    "from statistics import mean # statistics es un maquete con funcoioenes para calcular estadisticas matematicas de numeros"
   ]
  },
  {
   "cell_type": "markdown",
   "id": "b9399a23",
   "metadata": {},
   "source": [
    "## Clase Registro Climatico"
   ]
  },
  {
   "cell_type": "markdown",
   "id": "baa4f434",
   "metadata": {},
   "source": [
    "Esta clase realiza el analisis del archivo de datos en formato csv para orgaizarlo para luego utilizar la clase Analizador"
   ]
  },
  {
   "cell_type": "code",
   "execution_count": 2,
   "id": "8b4b50ed",
   "metadata": {},
   "outputs": [],
   "source": [
    "class RegistroClimatico:\n",
    "    def __init__(self,fecha,temperatura,humedad):\n",
    "        self.fecha = fecha\n",
    "        self.temperatura = temperatura\n",
    "        self.humedad = humedad\n",
    "        \n",
    "    def __repr__(self):\n",
    "        return f\"RegistroClimatico(fecha={self.fecha}, temperatura={self.temperatura}°C, humedad={self.humedad}%)\""
   ]
  },
  {
   "cell_type": "markdown",
   "id": "b4cdc438",
   "metadata": {},
   "source": [
    "## Clase Analizador"
   ]
  },
  {
   "cell_type": "code",
   "execution_count": 3,
   "id": "dbd6a6d6",
   "metadata": {},
   "outputs": [],
   "source": [
    "class Analizador:\n",
    "    def __init__(self):\n",
    "        self.registros = []\n",
    "        self.dias_unicos = set()"
   ]
  }
 ],
 "metadata": {
  "kernelspec": {
   "display_name": "Python 3",
   "language": "python",
   "name": "python3"
  },
  "language_info": {
   "codemirror_mode": {
    "name": "ipython",
    "version": 3
   },
   "file_extension": ".py",
   "mimetype": "text/x-python",
   "name": "python",
   "nbconvert_exporter": "python",
   "pygments_lexer": "ipython3",
   "version": "3.13.7"
  }
 },
 "nbformat": 4,
 "nbformat_minor": 5
}
