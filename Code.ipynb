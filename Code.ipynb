{
 "cells": [
  {
   "cell_type": "markdown",
   "id": "f150dc4a",
   "metadata": {},
   "source": [
    "# Proyecto 1"
   ]
  },
  {
   "cell_type": "markdown",
   "id": "7722b4ec",
   "metadata": {},
   "source": [
    "Archivo lectura"
   ]
  },
  {
   "cell_type": "code",
   "execution_count": 17,
   "id": "7450278a",
   "metadata": {},
   "outputs": [],
   "source": [
    "import pandas as pd # pandas: librria para manejar de datos (lectura de csv)\n",
    "from statistics import mean # statistics es un maquete con funcoioenes para calcular estadisticas matematicas de numeros"
   ]
  },
  {
   "cell_type": "markdown",
   "id": "bbf58847",
   "metadata": {},
   "source": [
    "## Clase Registro Climatico"
   ]
  },
  {
   "cell_type": "markdown",
   "id": "1680e125",
   "metadata": {},
   "source": [
    "Esta clase realiza el analisis del archivo de datos en formato csv para orgaizarlo para luego utilizar la clase Analizador"
   ]
  },
  {
   "cell_type": "code",
   "execution_count": 18,
   "id": "574685ba",
   "metadata": {},
   "outputs": [],
   "source": [
    "class RegistroClimatico:\n",
    "    def __init__(self,fecha,temperatura,humedad):\n",
    "        self.fecha = fecha\n",
    "        self.temperatura = temperatura\n",
    "        self.humedad = humedad\n",
    "        \n",
    "    def __repr__(self):\n",
    "        return f\"RegistroClimatico(fecha={self.fecha}, temperatura={self.temperatura}°C, humedad={self.humedad}%)\""
   ]
  },
  {
   "cell_type": "markdown",
   "id": "8ca3fba2",
   "metadata": {},
   "source": [
    "## Clase Analizador"
   ]
  },
  {
   "cell_type": "code",
   "execution_count": 37,
   "id": "db6809cc",
   "metadata": {},
   "outputs": [],
   "source": [
    "class Analizador:\n",
    "    def __init__(self):\n",
    "        self.registros = []\n",
    "        self.dias_unicos = set()\n",
    "\n",
    "    def cargar_datos(self, archivo_csv):\n",
    "        df = pd.read_csv(archivo_csv)\n",
    "        for _, fila in df.iterrows():\n",
    "            registro = RegistroClimatico(fila[\"fecha\"], fila[\"temperatura\"], fila[\"humedad\"])\n",
    "            self.registros.append(registro)\n",
    "            self.dias_unicos.add(fila[\"fecha\"])\n",
    "    \n",
    "    def estadisticas(self):\n",
    "        temperaturas = [r.temperatura for r in self.registros]\n",
    "        humedades = [r.humedad for r in self.registros]\n",
    "        return{\n",
    "            \"temperatura_promedio\": mean(temperaturas),\n",
    "            \"temperatura_maxima\": max(temperaturas),\n",
    "            \"temperatura_minima\": min(temperaturas),\n",
    "            \"humedad_promedio\": mean(humedades),\n",
    "            \"humedad_maxima\": max(humedades),\n",
    "            \"humedad_minima\": min(humedades)\n",
    "        }\n",
    "    \n",
    "    def clasificar_humedad(self, humedad):\n",
    "        if humedad < 30:\n",
    "            return \"Humedad baja\"\n",
    "        elif 30 <= humedad <= 60:\n",
    "            return \"Humedad moderada\"\n",
    "        else:\n",
    "            return \"Alta\"\n",
    "        \n",
    "    def generar_alertas_humedad(self):\n",
    "        return[f\"⚠️ {self.clasificar_humedad(r.humedad)} el {r.fecha}: {r.humedad}%\"\n",
    "               for r in self.registros]\n",
    "\n",
    "    def generar_reportes_olas(self, dias_minimos=3, calor_umbral=30, frio_umbral=10, ambiente_rango=range(18,25)):\n",
    "        reportes = [] \n",
    "        conteo_calor = conteo_frio = conteo_ambiente = 0 \n",
    "        for i in range(len(self.registros)): \n",
    "            r = self.registros[i] \n",
    "            if r.temperatura >= calor_umbral:\n",
    "                conteo_calor += 1 \n",
    "                conteo_frio = conteo_ambiente = 0  \n",
    "            elif r.temperatura <= frio_umbral:\n",
    "                conteo_frio += 1\n",
    "                conteo_calor = conteo_ambiente = 0  \n",
    "            elif ambiente_rango[0] <= r.temperatura <= ambiente_rango[1]:\n",
    "                conteo_ambiente += 1     \n",
    "\n",
    "                conteo_calor = conteo_frio = 0  \n",
    "            else:\n",
    "                conteo_calor = conteo_frio = conteo_ambiente = 0  \n",
    "            if conteo_calor == dias_minimos:\n",
    "                reportes.append(f\"Ola de calor del {self.registros[i - dias_minimos + 1].fecha}\")\n",
    "            if conteo_frio == dias_minimos:\n",
    "                reportes.append(f\"Ola de frío del {self.registros[i - dias_minimos + 1].fecha}\")\n",
    "            if conteo_ambiente == dias_minimos:\n",
    "                reportes.append(f\"Ola de temperatura ambiente {self.registros[i - dias_minimos + 1].fecha}\")\n",
    "        \n",
    "        return reportes\n"
   ]
  }
 ],
 "metadata": {
  "kernelspec": {
   "display_name": "Python 3",
   "language": "python",
   "name": "python3"
  },
  "language_info": {
   "codemirror_mode": {
    "name": "ipython",
    "version": 3
   },
   "file_extension": ".py",
   "mimetype": "text/x-python",
   "name": "python",
   "nbconvert_exporter": "python",
   "pygments_lexer": "ipython3",
   "version": "3.13.7"
  }
 },
 "nbformat": 4,
 "nbformat_minor": 5
}
